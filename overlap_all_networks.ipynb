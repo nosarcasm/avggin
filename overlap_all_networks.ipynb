{
 "cells": [
  {
   "cell_type": "code",
   "execution_count": 21,
   "metadata": {
    "collapsed": true
   },
   "outputs": [],
   "source": [
    "%run ipy_setup.py\n",
    "%matplotlib inline\n",
    "\n",
    "import sys\n",
    "sys.path.insert(0, '/hpc/users/neffr01/zhang_neffr01/avggin/')\n",
    "from __init__ import *\n",
    "import database\n",
    "import networkx as nx"
   ]
  },
  {
   "cell_type": "code",
   "execution_count": 47,
   "metadata": {
    "scrolled": false
   },
   "outputs": [
    {
     "name": "stdout",
     "output_type": "stream",
     "text": [
      "{'name': '6_ROSMAP.onlyclust.graphml_signature'}\n",
      "{'name': '2_ROSMAP.onlyclust.graphml_signature'}\n",
      "{'name': '5_ROSMAP.onlyclust.graphml_signature'}\n",
      "{'name': '10_ROSMAP.onlyclust.graphml_signature'}\n",
      "{'name': '4_ROSMAP.onlyclust.graphml_signature'}\n",
      "{'name': '13_ROSMAP.onlyclust.graphml_signature'}\n",
      "{'name': '12_ROSMAP.onlyclust.graphml_signature'}\n",
      "{'name': '18_ROSMAP.onlyclust.graphml_signature'}\n",
      "{'name': '16_ROSMAP.onlyclust.graphml_signature'}\n",
      "{'name': '8_ROSMAP.onlyclust.graphml_signature'}\n",
      "{'name': '15_ROSMAP.onlyclust.graphml_signature'}\n",
      "{'name': '9_ROSMAP.onlyclust.graphml_signature'}\n",
      "{'name': '3_ROSMAP.onlyclust.graphml_signature'}\n",
      "{'name': '7_ROSMAP.onlyclust.graphml_signature'}\n"
     ]
    }
   ],
   "source": [
    "db.session.rollback()\n",
    "netlist = []\n",
    "for a in ggi_node.query.filter_by(label=\"APP\").all():\n",
    "    if \"onlyclust\" in a.ggi_network.properties:\n",
    "        netlist.append(a.ggi_network)\n",
    "        print(a.ggi_network.properties)\n",
    "        #print([(e.source_node.label,e.target_node.label) for e in a.edges().all()])"
   ]
  },
  {
   "cell_type": "code",
   "execution_count": 20,
   "metadata": {},
   "outputs": [
    {
     "data": {
      "text/plain": [
       "<ggi_network 27>"
      ]
     },
     "execution_count": 20,
     "metadata": {},
     "output_type": "execute_result"
    }
   ],
   "source": [
    "netlist[0]"
   ]
  },
  {
   "cell_type": "code",
   "execution_count": 24,
   "metadata": {
    "collapsed": true
   },
   "outputs": [],
   "source": [
    "combined_graph = nx.Graph()\n",
    "edges_traversed = defaultdict(dict)\n",
    "count = 0\n",
    "for net in netlist:\n",
    "    edgelist = net.edges.all()\n",
    "    for edge in edgelist:\n",
    "        node1=edge.source_node\n",
    "        node2=edge.target_node\n",
    "        node1_all = None\n",
    "        node2_all = None\n",
    "        if node1.ensembl_id != None:\n",
    "            node1_all = ggi_node.query.filter_by(ensembl_id=node1.ensembl_id).all()\n",
    "        else:\n",
    "            node1_all = ggi_node.query.filter_by(label=node1.label).all()\n",
    "        if node2.ensembl_id != None:\n",
    "            node2_all = ggi_node.query.filter_by(ensembl_id=node2.ensembl_id).all()\n",
    "        else:\n",
    "            node2_all = ggi_node.query.filter_by(label=node2.label).all()\n",
    "        break\n",
    "    break"
   ]
  },
  {
   "cell_type": "code",
   "execution_count": 46,
   "metadata": {},
   "outputs": [
    {
     "name": "stdout",
     "output_type": "stream",
     "text": [
      "27\n",
      "[27, 21]\n",
      "[]\n"
     ]
    }
   ],
   "source": [
    "print(net.id)\n",
    "print([a.ggi_network_id for a in ggi_edge.query.filter(ggi_edge.source.in_([n.id for n in node1_all]), \n",
    "                      ggi_edge.target.in_([n.id for n in node2_all]),\n",
    "                      ggi_edge.ggi_network_id.in_([n.id for n in netlist])).all()])\n",
    "\n",
    "print([a.ggi_network_id for a in ggi_edge.query.filter(ggi_edge.target.in_([n.id for n in node1_all]),\n",
    "                     ggi_edge.source.in_([n.id for n in node2_all]),\n",
    "                     ggi_edge.ggi_network_id.in_([n.id for n in netlist])).all()])"
   ]
  },
  {
   "cell_type": "code",
   "execution_count": null,
   "metadata": {},
   "outputs": [
    {
     "name": "stdout",
     "output_type": "stream",
     "text": [
      "{'name': '6_ROSMAP.onlyclust.graphml_signature'}\n",
      "{'name': '2_ROSMAP.onlyclust.graphml_signature'}\n",
      "{'name': '5_ROSMAP.onlyclust.graphml_signature'}\n",
      "{'name': '10_ROSMAP.onlyclust.graphml_signature'}\n",
      "{'name': '4_ROSMAP.onlyclust.graphml_signature'}\n",
      "{'name': '13_ROSMAP.onlyclust.graphml_signature'}\n",
      "{'name': '12_ROSMAP.onlyclust.graphml_signature'}\n",
      "{'name': '18_ROSMAP.onlyclust.graphml_signature'}\n",
      "{'name': '16_ROSMAP.onlyclust.graphml_signature'}\n",
      "{'name': '8_ROSMAP.onlyclust.graphml_signature'}\n",
      "{'name': '15_ROSMAP.onlyclust.graphml_signature'}\n",
      "{'name': '9_ROSMAP.onlyclust.graphml_signature'}\n",
      "{'name': '3_ROSMAP.onlyclust.graphml_signature'}\n",
      "{'name': '7_ROSMAP.onlyclust.graphml_signature'}\n",
      "14\n",
      "Working on: {'name': '6_ROSMAP.onlyclust.graphml_signature'}\n",
      " [****************100%******************]  46515 of 46655 complete Elapsed: 10.9 minutes\t Remaining: 0.0 minutesWorking on: {'name': '2_ROSMAP.onlyclust.graphml_signature'}\n",
      " [****************100%******************]  46148 of 46333 complete Elapsed: 10.3 minutes\t Remaining: 0.0 minutesWorking on: {'name': '5_ROSMAP.onlyclust.graphml_signature'}\n",
      " [****************100%******************]  43209 of 43338 complete Elapsed: 10.1 minutes\t Remaining: 0.0 minutesWorking on: {'name': '10_ROSMAP.onlyclust.graphml_signature'}\n",
      " [****************100%******************]  46764 of 46869 complete Elapsed: 10.2 minutes\t Remaining: 0.0 minutesWorking on: {'name': '4_ROSMAP.onlyclust.graphml_signature'}\n",
      " [****************100%******************]  44679 of 44847 complete Elapsed: 9.8 minutes\t Remaining: 0.0 minutesWorking on: {'name': '13_ROSMAP.onlyclust.graphml_signature'}\n",
      " [*************    34%                  ]  16110 of 47616 complete Elapsed: 3.6 minutes\t Remaining: 6.9 minutes"
     ]
    }
   ],
   "source": [
    "'''\n",
    "combine all networks - ryan neff\n",
    "\n",
    "idea: add values for all edges from each network, 1 network at a time, \n",
    "getting all edges for that pair of nodes from the DB as each edge is seen\n",
    "\n",
    "if an edge was seen, it gets added to edges_traversed and not checked again\n",
    "\n",
    "'''\n",
    "\n",
    "db.session.rollback()\n",
    "netlist = []\n",
    "for a in ggi_network.query.all():\n",
    "    if \"onlyclust\" in a.properties:\n",
    "        netlist.append(a)\n",
    "        print(a.properties)\n",
    "\n",
    "combined_graph = nx.Graph()\n",
    "edges_traversed = set()\n",
    "#count = 0\n",
    "print(len(netlist))\n",
    "for net in netlist:\n",
    "    edgelist = net.edges.all()\n",
    "    pbar = ProgressBar(len(edgelist))\n",
    "    print(\"Working on: %s\"%net.properties)\n",
    "    for edge in edgelist:\n",
    "        pbar.animate()\n",
    "        node1=edge.source_node\n",
    "        node2=edge.target_node\n",
    "        if tuple(sorted([node1.label,node2.label])) in edges_traversed:\n",
    "            continue #speedup for edges already analyzed\n",
    "        else:\n",
    "            edges_traversed.add(tuple(sorted([node1.label,node2.label])))\n",
    "        node1_all = None\n",
    "        node2_all = None\n",
    "        if node1.ensembl_id != None:\n",
    "            node1_all = ggi_node.query.filter_by(ensembl_id=node1.ensembl_id).all()\n",
    "        else:\n",
    "            node1_all = ggi_node.query.filter_by(label=node1.label).all()\n",
    "        if node2.ensembl_id != None:\n",
    "            node2_all = ggi_node.query.filter_by(ensembl_id=node2.ensembl_id).all()\n",
    "        else:\n",
    "            node2_all = ggi_node.query.filter_by(label=node2.label).all()\n",
    "        \n",
    "        all_edge = ggi_edge.query.filter(ggi_edge.source.in_([n.id for n in node1_all]), \n",
    "                      ggi_edge.target.in_([n.id for n in node2_all]),\n",
    "                      ggi_edge.ggi_network_id.in_([n.id for n in netlist])).all()\n",
    "        \n",
    "        all_edge.extend(ggi_edge.query.filter(ggi_edge.target.in_([n.id for n in node1_all]), \n",
    "                     ggi_edge.source.in_([n.id for n in node2_all]),\n",
    "                     ggi_edge.ggi_network_id.in_([n.id for n in netlist])).all())\n",
    "        \n",
    "        num_edges = len(all_edge)\n",
    "        subnets = [(a.ggi_network_id,a.ggi_network.properties) for a in all_edge]\n",
    "        \n",
    "        #add edge to network\n",
    "        combined_graph.add_edge(node1.label,node2.label,{\"weight\":num_edges,\"subnets\":subnets})\n",
    "        \n",
    "        # idea - join the ggi_edge and ggi_node tables (how to do this?)"
   ]
  },
  {
   "cell_type": "code",
   "execution_count": null,
   "metadata": {
    "collapsed": true
   },
   "outputs": [],
   "source": [
    "nx.write_graphml(combined_graph,\"/hpc/users/neffr01/zhang_neffr01/avggin/combined_network.onlyclust.graphml\")"
   ]
  }
 ],
 "metadata": {
  "kernelspec": {
   "display_name": "Python 3",
   "language": "python",
   "name": "python3"
  },
  "language_info": {
   "codemirror_mode": {
    "name": "ipython",
    "version": 3
   },
   "file_extension": ".py",
   "mimetype": "text/x-python",
   "name": "python",
   "nbconvert_exporter": "python",
   "pygments_lexer": "ipython3",
   "version": "3.6.1"
  }
 },
 "nbformat": 4,
 "nbformat_minor": 2
}
